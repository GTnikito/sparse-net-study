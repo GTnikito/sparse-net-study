{
  "nbformat": 4,
  "nbformat_minor": 0,
  "metadata": {
    "kernelspec": {
      "name": "python3",
      "display_name": "Python 3"
    },
    "language_info": {
      "codemirror_mode": {
        "name": "ipython",
        "version": 3
      },
      "file_extension": ".py",
      "mimetype": "text/x-python",
      "name": "python",
      "nbconvert_exporter": "python",
      "pygments_lexer": "ipython3",
      "version": "3.6.8"
    },
    "colab": {
      "name": "regularization_exps.ipynb",
      "provenance": [],
      "toc_visible": true
    },
    "accelerator": "GPU"
  },
  "cells": [
    {
      "cell_type": "markdown",
      "metadata": {
        "id": "gNXoXRxa3auD",
        "colab_type": "text"
      },
      "source": [
        "# Imports"
      ]
    },
    {
      "cell_type": "code",
      "metadata": {
        "id": "wb0uEzK03auG",
        "colab_type": "code",
        "colab": {
          "base_uri": "https://localhost:8080/",
          "height": 34
        },
        "outputId": "28173af9-0977-427e-bd41-b6a8e48dcc0f"
      },
      "source": [
        "'''Train a simple deep CNN on the CIFAR10 small images dataset.\n",
        "\n",
        "It gets to 75% validation accuracy in 25 epochs, and 79% after 50 epochs.\n",
        "(it's still underfitting at that point, though).\n",
        "'''\n",
        "%tensorflow_version 1.x\n",
        "\n",
        "from __future__ import print_function\n",
        "\n",
        "import os\n",
        "# os.environ['CUDA_VISIBLE_DEVICES'] = '1'\n",
        "\n",
        "import csv\n",
        "import keras\n",
        "import numpy as np\n",
        "from keras import regularizers\n",
        "from keras.datasets import cifar10\n",
        "from keras.preprocessing.image import ImageDataGenerator\n",
        "from keras.models import Sequential\n",
        "from keras.layers import Dense, Dropout, Activation, Flatten\n",
        "from keras.layers import Conv2D, MaxPooling2D\n",
        "from keras.callbacks import EarlyStopping\n",
        "from itertools import chain\n",
        "import matplotlib.pyplot as plt"
      ],
      "execution_count": 1,
      "outputs": [
        {
          "output_type": "stream",
          "text": [
            "Using TensorFlow backend.\n"
          ],
          "name": "stderr"
        }
      ]
    },
    {
      "cell_type": "code",
      "metadata": {
        "id": "bCQlgR_y3auL",
        "colab_type": "code",
        "colab": {
          "base_uri": "https://localhost:8080/",
          "height": 34
        },
        "outputId": "93335fa9-6cd2-47b9-ae07-40997f038221"
      },
      "source": [
        "from tensorflow.python.client import device_lib\n",
        "\n",
        "def get_available_gpus():\n",
        "    local_device_protos = device_lib.list_local_devices()\n",
        "    return [str(x.name) + str(', ') + str(x.physical_device_desc) for x in local_device_protos if x.device_type == 'GPU']\n",
        "\n",
        "def limit_mem():\n",
        "    keras.backend.get_session().close()\n",
        "    cfg = keras.backend.tf.ConfigProto()\n",
        "    cfg.gpu_options.allow_growth = True\n",
        "    keras.backend.set_session(keras.backend.tf.Session(config=cfg))\n",
        "\n",
        "print(get_available_gpus())\n",
        "# limit_mem()"
      ],
      "execution_count": 2,
      "outputs": [
        {
          "output_type": "stream",
          "text": [
            "['/device:GPU:0, device: 0, name: Tesla P100-PCIE-16GB, pci bus id: 0000:00:04.0, compute capability: 6.0']\n"
          ],
          "name": "stdout"
        }
      ]
    },
    {
      "cell_type": "code",
      "metadata": {
        "id": "rlntUEHx3auO",
        "colab_type": "code",
        "colab": {}
      },
      "source": [
        "from enum import Enum\n",
        "class WeightsTypeEnum(Enum):\n",
        "        WEIGHTS = 1\n",
        "        BIAS = 2\n",
        "        WEIGHTS_BIAS = 3\n",
        "\n",
        "class ZeroTypeEnum(Enum):\n",
        "        SPARSE_WEIGHTS = 1\n",
        "        GLOBAL_CHANNELS = 2\n",
        "        FILTER_CHANNELS = 3\n",
        "\n",
        "def generate_layer_mask(active_layers, layers_num):\n",
        "    layer_mask = [0] * layers_num\n",
        "    for layer in active_layers:\n",
        "        layer_mask[layer] = 1\n",
        "    return layer_mask\n",
        "\n",
        "def show_weights_distribution(cnn_model, layer_mask, weights_type=WeightsTypeEnum.WEIGHTS, xrange=0.4):\n",
        "    all_weights = []\n",
        "    layer_mask_index = 0\n",
        "    \n",
        "    for x in cnn_model.layers:\n",
        "        if(x.get_weights() and layer_mask[layer_mask_index] == 1) :\n",
        "            layer_weights, layer_bias = x.get_weights()\n",
        "            if weights_type == WeightsTypeEnum.WEIGHTS:\n",
        "                all_weights.append(np.reshape(layer_weights, -1))\n",
        "            elif weights_type == WeightsTypeEnum.BIAS:\n",
        "                all_weights.append(np.reshape(layer_bias, -1))\n",
        "            elif weights_type == WeightsTypeEnum.WEIGHTS_BIAS:\n",
        "                all_weights.append(np.reshape(layer_weights, -1))\n",
        "                all_weights.append(np.reshape(layer_bias, -1))\n",
        "            else:\n",
        "                print('Some trouble in show_weights_distribution!')\n",
        "        layer_mask_index += 1\n",
        "    \n",
        "    all_weights = np.concatenate(all_weights)\n",
        "    plt.hist(all_weights, bins=80, range=(-xrange, xrange), alpha=0.6)"
      ],
      "execution_count": 0,
      "outputs": []
    },
    {
      "cell_type": "markdown",
      "metadata": {
        "id": "8ziSEmCp3auR",
        "colab_type": "text"
      },
      "source": [
        "### Sparce weights"
      ]
    },
    {
      "cell_type": "code",
      "metadata": {
        "id": "IYZp_eoS3auS",
        "colab_type": "code",
        "colab": {}
      },
      "source": [
        "def get_weights_threshold(zero_part, cnn_model, layer_mask, weights_type=WeightsTypeEnum.WEIGHTS):\n",
        "    all_weights = []\n",
        "    layer_mask_index = 0\n",
        "    \n",
        "    for x in cnn_model.layers:\n",
        "        if(x.get_weights() and layer_mask[layer_mask_index] == 1) :\n",
        "            layer_weights, layer_bias = x.get_weights()\n",
        "            if weights_type == WeightsTypeEnum.WEIGHTS:\n",
        "                all_weights.append(np.reshape(layer_weights, -1))\n",
        "            elif weights_type == WeightsTypeEnum.BIAS:\n",
        "                all_weights.append(np.reshape(layer_bias, -1))\n",
        "            elif weights_type == WeightsTypeEnum.WEIGHTS_BIAS:\n",
        "                all_weights.append(np.reshape(layer_weights, -1))\n",
        "                all_weights.append(np.reshape(layer_bias, -1))\n",
        "            else:\n",
        "                print('Some trouble in get_weights_threshold!')\n",
        "        layer_mask_index += 1\n",
        "            \n",
        "    all_weights = np.abs(np.concatenate(all_weights))\n",
        "    all_weights = np.sort(all_weights)\n",
        "    threshold_value = all_weights[int(zero_part * len(all_weights)) + 1]\n",
        "    return threshold_value\n",
        "    \n",
        "def get_weights_mask(cnn_model, threshold_value, layer_mask, weights_type=WeightsTypeEnum.WEIGHTS):\n",
        "    zero_masks = []\n",
        "    layer_mask_index = 0\n",
        "    \n",
        "    for x in cnn_model.layers:\n",
        "        if(x.get_weights() and layer_mask[layer_mask_index] == 1) :\n",
        "            layer_weights, layer_bias = x.get_weights()\n",
        "            if weights_type == WeightsTypeEnum.WEIGHTS:\n",
        "                zero_masks.append(np.abs(layer_weights) <= threshold_value)\n",
        "            elif weights_type == WeightsTypeEnum.BIAS:\n",
        "                zero_masks.append(np.abs(layer_bias) <= threshold_value)\n",
        "            elif weights_type == WeightsTypeEnum.WEIGHTS_BIAS:\n",
        "                #TODO: NULL SAME BIAS AS WEIGHT???\n",
        "                zero_masks.append(np.abs(layer_weights) <= threshold_value)\n",
        "                zero_masks.append(np.abs(layer_bias) <= threshold_value)\n",
        "            else:\n",
        "                print('Some trouble in get_weight_mask!')\n",
        "        layer_mask_index += 1\n",
        "            \n",
        "    return zero_masks"
      ],
      "execution_count": 0,
      "outputs": []
    },
    {
      "cell_type": "markdown",
      "metadata": {
        "id": "1sWjCl_73auW",
        "colab_type": "text"
      },
      "source": [
        "### Zero channels, global threshold"
      ]
    },
    {
      "cell_type": "code",
      "metadata": {
        "id": "wKDGTYjZ3auW",
        "colab_type": "code",
        "colab": {}
      },
      "source": [
        "def get_global_channel_threshold(zero_part, cnn_model, layer_mask, weights_type=WeightsTypeEnum.WEIGHTS):\n",
        "    all_channels = []\n",
        "    layer_mask_index = 0\n",
        "    \n",
        "    for x in cnn_model.layers:\n",
        "        if(x.get_weights() and layer_mask[layer_mask_index] == 1) :\n",
        "            layer_weights, layer_bias = x.get_weights()\n",
        "            if weights_type == WeightsTypeEnum.WEIGHTS:\n",
        "                all_channels.append(np.average(np.abs(layer_weights), axis=(0, 1, 2)))\n",
        "            elif weights_type == WeightsTypeEnum.BIAS:\n",
        "                all_channels.append(np.average(np.abs(layer_bias), axis=(0, 1, 2)))\n",
        "            elif weights_type == WeightsTypeEnum.WEIGHTS_BIAS:\n",
        "                all_channels.append(np.average(np.abs(layer_weights), axis=(0, 1, 2)))\n",
        "                all_channels.append(np.average(np.abs(layer_bias), axis=(0, 1, 2)))\n",
        "            else:\n",
        "                print('Some trouble in get_global_channel_threshold!')\n",
        "        layer_mask_index += 1\n",
        "    \n",
        "    all_channels = np.concatenate(all_channels)\n",
        "    all_channels = np.sort(all_channels)\n",
        "    \n",
        "    threshold_value = all_channels[max(min(int(zero_part * len(all_channels)), len(all_channels)), 0)]\n",
        "    return threshold_value\n",
        "    \n",
        "def get_global_channel_mask(cnn_model, threshold_value, layer_mask, weights_type=WeightsTypeEnum.WEIGHTS):\n",
        "    zero_masks = []\n",
        "    layer_mask_index = 0\n",
        "    \n",
        "    for x in cnn_model.layers:\n",
        "        if(x.get_weights() and layer_mask[layer_mask_index] == 1) :\n",
        "            layer_weights, layer_bias = x.get_weights()\n",
        "            if weights_type == WeightsTypeEnum.WEIGHTS:\n",
        "                mask = np.zeros(layer_weights.shape, dtype=int)\n",
        "                channel_avg = np.average(np.abs(layer_weights), axis=(0, 1, 2))\n",
        "                for ch in range(layer_weights.shape[3]):\n",
        "                    if (channel_avg[ch] <= threshold_value):\n",
        "                        mask[:,:,:,ch] = 1\n",
        "                zero_masks.append(mask)\n",
        "            elif weights_type == WeightsTypeEnum.BIAS:\n",
        "                mask = np.zeros(layer_bias.shape, dtype=int)\n",
        "                channel_avg = np.average(np.abs(layer_bias), axis=(0, 1, 2))\n",
        "                for ch in range(layer_bias.shape[3]):\n",
        "                    if (channel_avg[ch] <= threshold_value):\n",
        "                        mask[:,:,:,ch] = 1\n",
        "                zero_masks.append(mask)\n",
        "            elif weights_type == WeightsTypeEnum.WEIGHTS_BIAS:\n",
        "                #TODO: NULL SAME BIAS AS WEIGHT???\n",
        "                mask = np.zeros(layer_weights.shape, dtype=int)\n",
        "                channel_avg = np.average(np.abs(layer_weights), axis=(0, 1, 2))\n",
        "                for ch in range(layer_weights.shape[3]):\n",
        "                    if (channel_avg[ch] <= threshold_value):\n",
        "                        mask[:,:,:,ch] = 1\n",
        "                zero_masks.append(mask)\n",
        "                mask = np.zeros(layer_bias.shape, dtype=int)\n",
        "                channel_avg = np.average(np.abs(layer_bias), axis=(0, 1, 2))\n",
        "                for ch in range(layer_bias.shape[3]):\n",
        "                    if (channel_avg[ch] <= threshold_value):\n",
        "                        mask[:,:,:,ch] = 1\n",
        "                zero_masks.append(mask)\n",
        "            else:\n",
        "                print('Some trouble in get_global_channel_mask!')\n",
        "        layer_mask_index += 1\n",
        "            \n",
        "    return zero_masks"
      ],
      "execution_count": 0,
      "outputs": []
    },
    {
      "cell_type": "markdown",
      "metadata": {
        "id": "ZU4S16jH3aua",
        "colab_type": "text"
      },
      "source": [
        "### Zero channels, filter threshold"
      ]
    },
    {
      "cell_type": "code",
      "metadata": {
        "id": "r_7TdNWP3aub",
        "colab_type": "code",
        "colab": {}
      },
      "source": [
        "def get_filter_channel_mask(zero_part, cnn_model, layer_mask, weights_type=WeightsTypeEnum.WEIGHTS):\n",
        "    zero_masks = []\n",
        "    layer_mask_index = 0\n",
        "    \n",
        "    for x in cnn_model.layers:\n",
        "        if(x.get_weights() and layer_mask[layer_mask_index] == 1) :\n",
        "            layer_weights, layer_bias = x.get_weights()\n",
        "            if weights_type == WeightsTypeEnum.WEIGHTS:\n",
        "                mask = np.zeros(layer_weights.shape, dtype=int)\n",
        "                channel_avg = np.average(np.abs(layer_weights), axis=(0, 1, 2))\n",
        "                sorted_avg = np.sort(np.copy(channel_avg))\n",
        "                threshold_value = sorted_avg[max(min(int(zero_part * len(sorted_avg)), len(sorted_avg)), 0)]\n",
        "                for ch in range(layer_weights.shape[3]):\n",
        "                    if (channel_avg[ch] <= threshold_value):\n",
        "                        mask[:,:,:,ch] = 1\n",
        "                zero_masks.append(mask)\n",
        "            elif weights_type == WeightsTypeEnum.BIAS:                \n",
        "                mask = np.zeros(layer_bias.shape, dtype=int)\n",
        "                channel_avg = np.average(np.abs(layer_bias), axis=(0, 1, 2))\n",
        "                sorted_avg = np.sort(np.copy(channel_avg))\n",
        "                threshold_value = sorted_avg[max(min(int(zero_part * len(sorted_avg)), len(sorted_avg)), 0)]\n",
        "                for ch in range(layer_bias.shape[3]):\n",
        "                    if (channel_avg[ch] <= threshold_value):\n",
        "                        mask[:,:,:,ch] = 1\n",
        "                zero_masks.append(mask)\n",
        "            elif weights_type == WeightsTypeEnum.WEIGHTS_BIAS:\n",
        "                #TODO: NULL SAME BIAS AS WEIGHT???\n",
        "                mask = np.zeros(layer_weights.shape, dtype=int)\n",
        "                channel_avg = np.average(np.abs(layer_weights), axis=(0, 1, 2))\n",
        "                sorted_avg = np.sort(np.copy(channel_avg))\n",
        "                threshold_value = sorted_avg[max(min(int(zero_part * len(sorted_avg)), len(sorted_avg)), 0)]\n",
        "                for ch in range(layer_weights.shape[3]):\n",
        "                    if (channel_avg[ch] <= threshold_value):\n",
        "                        mask[:,:,:,ch] = 1\n",
        "                zero_masks.append(mask)\n",
        "                \n",
        "                mask = np.zeros(layer_bias.shape, dtype=int)\n",
        "                channel_avg = np.average(np.abs(layer_bias), axis=(0, 1, 2))\n",
        "                sorted_avg = np.sort(np.copy(channel_avg))\n",
        "                threshold_value = sorted_avg[max(min(int(zero_part * len(sorted_avg)), len(sorted_avg)), 0)]\n",
        "                for ch in range(layer_bias.shape[3]):\n",
        "                    if (channel_avg[ch] <= threshold_value):\n",
        "                        mask[:,:,:,ch] = 1\n",
        "                zero_masks.append(mask)                \n",
        "                \n",
        "            else:\n",
        "                print('Some trouble in get_filter_channel_mask!')\n",
        "        layer_mask_index += 1\n",
        "            \n",
        "    return zero_masks"
      ],
      "execution_count": 0,
      "outputs": []
    },
    {
      "cell_type": "markdown",
      "metadata": {
        "id": "dwqC3ngAVOok",
        "colab_type": "text"
      },
      "source": [
        "### Wraps around zeroing"
      ]
    },
    {
      "cell_type": "code",
      "metadata": {
        "id": "RtcRuB5EVWhI",
        "colab_type": "code",
        "colab": {}
      },
      "source": [
        "def get_zero_mask(zero_part, cnn_model, layer_mask, zero_type=ZeroTypeEnum.SPARSE_WEIGHTS, weights_type=WeightsTypeEnum.WEIGHTS):\n",
        "    if (zero_type == ZeroTypeEnum.SPARSE_WEIGHTS):\n",
        "        threshold = get_weights_threshold(zero_part, cnn_model, layer_mask, weights_type)\n",
        "        zero_mask = get_weights_mask(cnn_model, threshold, layer_mask, weights_type)\n",
        "        return zero_mask\n",
        "    elif (zero_type == ZeroTypeEnum.GLOBAL_CHANNELS):\n",
        "        threshold = get_global_channel_threshold(zero_part, cnn_model, layer_mask, weights_type)\n",
        "        zero_mask = get_global_channel_mask(cnn_model, threshold, layer_mask, weights_type)\n",
        "        return zero_mask\n",
        "    elif (zero_type == ZeroTypeEnum.FILTER_CHANNELS):\n",
        "        zero_mask = get_filter_channel_mask(zero_part, cnn_model, layer_mask, weights_type)\n",
        "        return zero_mask\n",
        "    else:\n",
        "        print('Some trouble in get_zero_mask!')"
      ],
      "execution_count": 0,
      "outputs": []
    },
    {
      "cell_type": "markdown",
      "metadata": {
        "id": "MUQLlPQU3aue",
        "colab_type": "text"
      },
      "source": [
        "### Set weights to zero"
      ]
    },
    {
      "cell_type": "code",
      "metadata": {
        "id": "3bCf-nyj3aue",
        "colab_type": "code",
        "colab": {}
      },
      "source": [
        "def set_null_weights_by_mask(cnn_model, zero_mask, layer_mask, weights_type=WeightsTypeEnum.WEIGHTS):\n",
        "    mask_iter = 0\n",
        "    layer_mask_index = 0\n",
        "    \n",
        "    for x in cnn_model.layers:\n",
        "        if(x.get_weights() and layer_mask[layer_mask_index] == 1) :\n",
        "            layer_weights, layer_bias = x.get_weights()\n",
        "            if weights_type == WeightsTypeEnum.WEIGHTS:\n",
        "                layer_weights[zero_mask[mask_iter]] = 0\n",
        "            elif weights_type == WeightsTypeEnum.BIAS:\n",
        "                layer_bias[zero_mask[mask_iter]] = 0\n",
        "            elif weights_type == WeightsTypeEnum.WEIGHTS_BIAS:\n",
        "                layer_weights[zero_mask[mask_iter]] = 0\n",
        "                mask_iter += 1\n",
        "                layer_bias[zero_mask[mask_iter]] = 0\n",
        "            else:\n",
        "                print('Some trouble in set_null_weights_by_mask!')\n",
        "            mask_iter += 1\n",
        "            x.set_weights([layer_weights, layer_bias])\n",
        "        layer_mask_index += 1\n",
        "        \n",
        "    # NO POINT TO RETURN\n",
        "    return cnn_model"
      ],
      "execution_count": 0,
      "outputs": []
    },
    {
      "cell_type": "markdown",
      "metadata": {
        "id": "pu_raxTd3auh",
        "colab_type": "text"
      },
      "source": [
        "# Model achitecture"
      ]
    },
    {
      "cell_type": "code",
      "metadata": {
        "id": "3cM8iNNd3aui",
        "colab_type": "code",
        "colab": {
          "base_uri": "https://localhost:8080/",
          "height": 581
        },
        "outputId": "7196bef8-8ba7-40bd-9b72-f99c6702b6c8"
      },
      "source": [
        "batch_size = 32\n",
        "num_classes = 10\n",
        "epochs = 40\n",
        "data_augmentation = True\n",
        "num_predictions = 20\n",
        "save_dir = os.path.join(os.getcwd(), 'saved_models')\n",
        "l1_coef = 0.0001 # * 10, * 100, * ??? was 0.00001\n",
        "min_los_delta = 0.001\n",
        "\n",
        "# 01 version - stock model, dropouts, no L1/L2\n",
        "# 02 version - stock model, no dropouts, no L1/L2\n",
        "# 03 version - stock model, no dropouts, L1 0.01 kernel_regularizer\n",
        "\n",
        "# The data, split between train and test sets:\n",
        "(x_train, y_train), (x_test, y_test) = cifar10.load_data()\n",
        "print('x_train shape:', x_train.shape)\n",
        "print(x_train.shape[0], 'train samples')\n",
        "print(x_test.shape[0], 'test samples')\n",
        "\n",
        "# Convert class vectors to binary class matrices.\n",
        "y_train = keras.utils.to_categorical(y_train, num_classes)\n",
        "y_test = keras.utils.to_categorical(y_test, num_classes)\n",
        "\n",
        "model = Sequential()\n",
        "model.add(Conv2D(32, (3, 3), padding='same', \n",
        "                 input_shape=x_train.shape[1:]))#, kernel_regularizer=regularizers.l1(l1_coef))) # Layer 0\n",
        "model.add(Activation('relu')) # Layer 1\n",
        "model.add(Conv2D(32, (3, 3)))#, kernel_regularizer=regularizers.l1(l1_coef))) # Layer 2\n",
        "model.add(Activation('relu')) # Layer 3\n",
        "model.add(MaxPooling2D(pool_size=(2, 2))) # Layer 4\n",
        "model.add(Dropout(0.25)) # Layer 5\n",
        "\n",
        "model.add(Conv2D(64, (3, 3), padding='same'))#, kernel_regularizer=regularizers.l1(l1_coef))) # Layer 6\n",
        "model.add(Activation('relu')) # Layer 7\n",
        "model.add(Conv2D(64, (3, 3)))#, kernel_regularizer=regularizers.l1(l1_coef))) # Layer 8\n",
        "model.add(Activation('relu')) # Layer 9\n",
        "model.add(MaxPooling2D(pool_size=(2, 2))) # Layer 10\n",
        "model.add(Dropout(0.25)) # Layer 11\n",
        "\n",
        "model.add(Flatten()) # Layer 12\n",
        "model.add(Dense(512))#, kernel_regularizer=regularizers.l1(l1_coef)))  # Layer 13\n",
        "model.add(Activation('relu'))  # Layer 14\n",
        "model.add(Dropout(0.5))  # Layer 15 \n",
        "model.add(Dense(num_classes))#, kernel_regularizer=regularizers.l1(l1_coef)))  # Layer 16\n",
        "model.add(Activation('softmax'))  # Layer 17\n",
        "\n",
        "\n",
        "# initiate RMSprop optimizer\n",
        "opt = keras.optimizers.rmsprop(lr=0.0001, decay=1e-6)\n",
        "# maybe adam, /5 or /10 default parametrs\n",
        "\n",
        "# Let's train the model using RMSprop\n",
        "model.compile(loss='categorical_crossentropy',\n",
        "              optimizer=opt,\n",
        "              metrics=['accuracy'])\n",
        "\n",
        "x_train = x_train.astype('float32')\n",
        "x_test = x_test.astype('float32')\n",
        "x_train /= 255\n",
        "x_test /= 255\n",
        "\n",
        "if not os.path.isdir(save_dir):\n",
        "    os.makedirs(save_dir)\n",
        "model_path = os.path.join(save_dir, \"empty_model\")\n",
        "model.save(model_path)"
      ],
      "execution_count": 9,
      "outputs": [
        {
          "output_type": "stream",
          "text": [
            "x_train shape: (50000, 32, 32, 3)\n",
            "50000 train samples\n",
            "10000 test samples\n",
            "WARNING:tensorflow:From /usr/local/lib/python3.6/dist-packages/keras/backend/tensorflow_backend.py:66: The name tf.get_default_graph is deprecated. Please use tf.compat.v1.get_default_graph instead.\n",
            "\n",
            "WARNING:tensorflow:From /usr/local/lib/python3.6/dist-packages/keras/backend/tensorflow_backend.py:541: The name tf.placeholder is deprecated. Please use tf.compat.v1.placeholder instead.\n",
            "\n",
            "WARNING:tensorflow:From /usr/local/lib/python3.6/dist-packages/keras/backend/tensorflow_backend.py:4432: The name tf.random_uniform is deprecated. Please use tf.random.uniform instead.\n",
            "\n",
            "WARNING:tensorflow:From /usr/local/lib/python3.6/dist-packages/keras/backend/tensorflow_backend.py:4267: The name tf.nn.max_pool is deprecated. Please use tf.nn.max_pool2d instead.\n",
            "\n",
            "WARNING:tensorflow:From /usr/local/lib/python3.6/dist-packages/keras/backend/tensorflow_backend.py:148: The name tf.placeholder_with_default is deprecated. Please use tf.compat.v1.placeholder_with_default instead.\n",
            "\n",
            "WARNING:tensorflow:From /usr/local/lib/python3.6/dist-packages/keras/backend/tensorflow_backend.py:3733: calling dropout (from tensorflow.python.ops.nn_ops) with keep_prob is deprecated and will be removed in a future version.\n",
            "Instructions for updating:\n",
            "Please use `rate` instead of `keep_prob`. Rate should be set to `rate = 1 - keep_prob`.\n",
            "WARNING:tensorflow:From /usr/local/lib/python3.6/dist-packages/keras/optimizers.py:793: The name tf.train.Optimizer is deprecated. Please use tf.compat.v1.train.Optimizer instead.\n",
            "\n",
            "WARNING:tensorflow:From /usr/local/lib/python3.6/dist-packages/keras/backend/tensorflow_backend.py:3576: The name tf.log is deprecated. Please use tf.math.log instead.\n",
            "\n",
            "WARNING:tensorflow:From /usr/local/lib/python3.6/dist-packages/keras/backend/tensorflow_backend.py:190: The name tf.get_default_session is deprecated. Please use tf.compat.v1.get_default_session instead.\n",
            "\n",
            "WARNING:tensorflow:From /usr/local/lib/python3.6/dist-packages/keras/backend/tensorflow_backend.py:197: The name tf.ConfigProto is deprecated. Please use tf.compat.v1.ConfigProto instead.\n",
            "\n",
            "WARNING:tensorflow:From /usr/local/lib/python3.6/dist-packages/keras/backend/tensorflow_backend.py:203: The name tf.Session is deprecated. Please use tf.compat.v1.Session instead.\n",
            "\n",
            "WARNING:tensorflow:From /usr/local/lib/python3.6/dist-packages/keras/backend/tensorflow_backend.py:207: The name tf.global_variables is deprecated. Please use tf.compat.v1.global_variables instead.\n",
            "\n",
            "WARNING:tensorflow:From /usr/local/lib/python3.6/dist-packages/keras/backend/tensorflow_backend.py:216: The name tf.is_variable_initialized is deprecated. Please use tf.compat.v1.is_variable_initialized instead.\n",
            "\n",
            "WARNING:tensorflow:From /usr/local/lib/python3.6/dist-packages/keras/backend/tensorflow_backend.py:223: The name tf.variables_initializer is deprecated. Please use tf.compat.v1.variables_initializer instead.\n",
            "\n"
          ],
          "name": "stdout"
        }
      ]
    },
    {
      "cell_type": "markdown",
      "metadata": {
        "id": "KF8L7iGA3aun",
        "colab_type": "text"
      },
      "source": [
        "# Callbacks"
      ]
    },
    {
      "cell_type": "code",
      "metadata": {
        "id": "ShyYH2GO3auo",
        "colab_type": "code",
        "colab": {}
      },
      "source": [
        "cb_lists = [\n",
        "    EarlyStopping(monitor='val_loss', \n",
        "                  min_delta=0.1 * min_los_delta, \n",
        "                  patience=10, \n",
        "                  verbose=0, \n",
        "                  mode='auto', \n",
        "                  baseline=None, \n",
        "                  restore_best_weights=False)\n",
        "]"
      ],
      "execution_count": 0,
      "outputs": []
    },
    {
      "cell_type": "markdown",
      "metadata": {
        "id": "V3r3HWGA3auq",
        "colab_type": "text"
      },
      "source": [
        "# Example Loop"
      ]
    },
    {
      "cell_type": "code",
      "metadata": {
        "id": "y45IArjz3aur",
        "colab_type": "code",
        "colab": {}
      },
      "source": [
        "def example_loop():\n",
        "    if not data_augmentation:\n",
        "        print('Not using data augmentation.')\n",
        "        model.fit(x_train, y_train,\n",
        "                  batch_size=batch_size,\n",
        "                  epochs=epochs,\n",
        "                  validation_data=(x_test, y_test),\n",
        "                  shuffle=True)\n",
        "    else:\n",
        "        print('Using real-time data augmentation.')\n",
        "        # This will do preprocessing and realtime data augmentation:\n",
        "        datagen = ImageDataGenerator(\n",
        "            featurewise_center=False,  # set input mean to 0 over the dataset\n",
        "            samplewise_center=False,  # set each sample mean to 0\n",
        "            featurewise_std_normalization=False,  # divide inputs by std of the dataset\n",
        "            samplewise_std_normalization=False,  # divide each input by its std\n",
        "            zca_whitening=False,  # apply ZCA whitening\n",
        "            zca_epsilon=1e-06,  # epsilon for ZCA whitening\n",
        "            rotation_range=0,  # randomly rotate images in the range (degrees, 0 to 180)\n",
        "            # randomly shift images horizontally (fraction of total width)\n",
        "            width_shift_range=0.1,\n",
        "            # randomly shift images vertically (fraction of total height)\n",
        "            height_shift_range=0.1,\n",
        "            shear_range=0.,  # set range for random shear\n",
        "            zoom_range=0.,  # set range for random zoom\n",
        "            channel_shift_range=0.,  # set range for random channel shifts\n",
        "            # set mode for filling points outside the input boundaries\n",
        "            fill_mode='nearest',\n",
        "            cval=0.,  # value used for fill_mode = \"constant\"\n",
        "            horizontal_flip=True,  # randomly flip images\n",
        "            vertical_flip=False,  # randomly flip images\n",
        "            # set rescaling factor (applied before any other transformation)\n",
        "            rescale=None,\n",
        "            # set function that will be applied on each input\n",
        "            preprocessing_function=None,\n",
        "            # image data format, either \"channels_first\" or \"channels_last\"\n",
        "            data_format=None,\n",
        "            # fraction of images reserved for validation (strictly between 0 and 1)\n",
        "            validation_split=0.0)\n",
        "    \n",
        "        # Compute quantities required for feature-wise normalization\n",
        "        # (std, mean, and principal components if ZCA whitening is applied).\n",
        "        datagen.fit(x_train)\n",
        "    \n",
        "        # Fit the model on the batches generated by datagen.flow().\n",
        "        model.fit_generator(datagen.flow(x_train, y_train,\n",
        "                                         batch_size=batch_size),\n",
        "                            epochs=epochs,\n",
        "                            validation_data=(x_test, y_test),\n",
        "                            workers=4,\n",
        "                            steps_per_epoch=len(x_train)/batch_size,\n",
        "                            callbacks=cb_lists)"
      ],
      "execution_count": 0,
      "outputs": []
    },
    {
      "cell_type": "markdown",
      "metadata": {
        "id": "jbjICJOh3auu",
        "colab_type": "text"
      },
      "source": [
        "# Custom Loop"
      ]
    },
    {
      "cell_type": "code",
      "metadata": {
        "id": "IqebOeIM3auu",
        "colab_type": "code",
        "colab": {}
      },
      "source": [
        "def custom_loop(model, zero_part, log_file_name):\n",
        "    datagen = ImageDataGenerator(\n",
        "        featurewise_center=False,  # set input mean to 0 over the dataset\n",
        "        samplewise_center=False,  # set each sample mean to 0\n",
        "        featurewise_std_normalization=False,  # divide inputs by std of the dataset\n",
        "        samplewise_std_normalization=False,  # divide each input by its std\n",
        "        zca_whitening=False,  # apply ZCA whitening\n",
        "        zca_epsilon=1e-06,  # epsilon for ZCA whitening\n",
        "        rotation_range=0,  # randomly rotate images in the range (degrees, 0 to 180)\n",
        "        # randomly shift images horizontally (fraction of total width)\n",
        "        width_shift_range=0.1,\n",
        "        # randomly shift images vertically (fraction of total height)\n",
        "        height_shift_range=0.1,\n",
        "        shear_range=0.,  # set range for random shear\n",
        "        zoom_range=0.,  # set range for random zoom\n",
        "        channel_shift_range=0.,  # set range for random channel shifts\n",
        "        # set mode for filling points outside the input boundaries\n",
        "        fill_mode='nearest',\n",
        "        cval=0.,  # value used for fill_mode = \"constant\"\n",
        "        horizontal_flip=True,  # randomly flip images\n",
        "        vertical_flip=False,  # randomly flip images\n",
        "        # set rescaling factor (applied before any other transformation)\n",
        "        rescale=None,\n",
        "        # set function that will be applied on each input\n",
        "        preprocessing_function=None,\n",
        "        # image data format, either \"channels_first\" or \"channels_last\"\n",
        "        data_format=None,\n",
        "        # fraction of images reserved for validation (strictly between 0 and 1)\n",
        "        validation_split=0.0)\n",
        "\n",
        "    # Compute quantities required for feature-wise normalization\n",
        "    # (std, mean, and principal components if ZCA whitening is applied).\n",
        "    datagen.fit(x_train)\n",
        "    \n",
        "    enable_early_cut_off = False\n",
        "    enable_saving_best_model = True\n",
        "    prev_loss = 0\n",
        "    best_loss = 999999999999\n",
        "    best_acc = 0\n",
        "    \n",
        "    # Zeroing weights params\n",
        "    enable_zeroing_weights = True\n",
        "    zero_mode = False\n",
        "    zero_mask = None\n",
        "    layers_to_zero = generate_layer_mask([0, 2, 6, 8], len(model.layers))\n",
        "    # 0, 2, 6, 8 - conv layers\n",
        "    # 13, 16 - dense layers\n",
        "    weights_type = WeightsTypeEnum.WEIGHTS\n",
        "    # WEIGHTS, BIAS, WEIGHTS_BIAS\n",
        "    zero_type = ZeroTypeEnum.SPARSE_WEIGHTS\n",
        "    # SPARSE_WEIGHTS, GLOBAL_CHANNELS, FILTER_CHANNELS\n",
        "        \n",
        "    \n",
        "    usual_epochs = 5\n",
        "    zeroing_epochs = 5\n",
        "    first_loop_iters = 3\n",
        "    real_epoch_counter = 0\n",
        "    \n",
        "    for i in range(0, first_loop_iters):\n",
        "        # print(\"Epoch!\")\n",
        "        # Usual epochs:\n",
        "        for j in range(0, usual_epochs):\n",
        "            gen = datagen.flow(x_train, y_train, batch_size=batch_size)\n",
        "        \n",
        "            for k in range(0, int(len(x_train)/batch_size)):\n",
        "                # print(\"train_on_batch! \" + str(k) + \" to \" + str(int(len(x_train)/batch_size)))\n",
        "                x_tr, y_tr = next(gen)\n",
        "                model.train_on_batch(x_tr, y_tr)\n",
        "            real_epoch_counter += 1\n",
        "        \n",
        "            print('Finish usuall epoch: ' + str(real_epoch_counter) + \"_\" + str(i) + \"_\" + str(j))\n",
        "            epoch_loss, epoch_acc = model.evaluate(x_test, y_test)\n",
        "            print('Validation loss: ' + str(epoch_loss) + ', acc ' + str(epoch_acc))\n",
        "            \n",
        "            with open(log_file_name, 'a', newline='') as f:\n",
        "                writer = csv.writer(f)\n",
        "#                 writer.writerow([\"{:2.2f}\".format(0.0)] + [str(epoch_loss)] + [str(epoch_acc)])\n",
        "                writer.writerow([str(0)] + [str(epoch_loss)] + [str(epoch_acc)])\n",
        "        \n",
        "#             if (enable_early_cut_off):\n",
        "#                 if (abs(epoch_loss - prev_loss) < min_los_delta):\n",
        "#                     print('Exit because loss stoped changing. epoch_loss ' \n",
        "#                           + str(epoch_loss) \n",
        "#                           + ' prev_loss' \n",
        "#                           + str(prev_loss))\n",
        "#                     break\n",
        "#                 prev_loss = epoch_loss        \n",
        "#             if(enable_saving_best_model):\n",
        "#                 if(epoch_loss < best_loss):\n",
        "#                     best_loss = epoch_loss\n",
        "#                     best_acc = epoch_acc\n",
        "                \n",
        "#                     if not os.path.isdir(save_dir):\n",
        "#                         os.makedirs(save_dir)\n",
        "#                     model_path = os.path.join(save_dir, model_name)\n",
        "#                     model.save(model_path)\n",
        "#                     print('Saved best model at %s ' % model_path)\n",
        "                    \n",
        "        # Zeroing epochs:\n",
        "        for j in range(0, zeroing_epochs):\n",
        "            gen = datagen.flow(x_train, y_train, batch_size=batch_size)\n",
        "            \n",
        "            if zero_mask is None:\n",
        "                zero_mask = get_zero_mask(zero_part, model, layers_to_zero, zero_type, weights_type)\n",
        "#                 print('Generate zero mask! ' + str(zero_mask))\n",
        "        \n",
        "            for k in range(0, int(len(x_train)/batch_size)):\n",
        "                x_tr, y_tr = next(gen)\n",
        "                model.train_on_batch(x_tr, y_tr)\n",
        "                model = set_null_weights_by_mask(model, zero_mask, layers_to_zero, weights_type)\n",
        "            real_epoch_counter += 1\n",
        "        \n",
        "            print('Finish zeroing epoch: ' + str(real_epoch_counter) + \"_\"  + str(i) + \"_\" + str(j))\n",
        "            epoch_loss, epoch_acc = model.evaluate(x_test, y_test)\n",
        "            print('Validation loss: ' + str(epoch_loss) + ', acc ' + str(epoch_acc))\n",
        "            \n",
        "            with open(log_file_name, 'a', newline='') as f:\n",
        "                writer = csv.writer(f)\n",
        "                writer.writerow([str(1)] + [str(epoch_loss)] + [str(epoch_acc)])\n",
        "        zero_mask = None\n",
        "        \n",
        "    for i in range(0, int((epochs - first_loop_iters * (usual_epochs + zeroing_epochs)) / zeroing_epochs)):\n",
        "        # Zeroing epochs:\n",
        "        for j in range(0, zeroing_epochs):\n",
        "            gen = datagen.flow(x_train, y_train, batch_size=batch_size)\n",
        "            \n",
        "            if zero_mask is None:\n",
        "                zero_mask = get_zero_mask(zero_part, model, layers_to_zero, zero_type, weights_type)\n",
        "                print('Generate zero mask! ' + str(len(zero_mask)))\n",
        "        \n",
        "            for k in range(0, int(len(x_train)/batch_size)):\n",
        "                x_tr, y_tr = next(gen)\n",
        "                model.train_on_batch(x_tr, y_tr)\n",
        "                model = set_null_weights_by_mask(model, zero_mask, layers_to_zero, weights_type)\n",
        "            real_epoch_counter += 1\n",
        "        \n",
        "            print('Finish zeroing epoch: ' + str(real_epoch_counter) + \"_\"  + str(i) + \"_\" + str(j))\n",
        "            epoch_loss, epoch_acc = model.evaluate(x_test, y_test)\n",
        "            print('Validation loss: ' + str(epoch_loss) + ', acc ' + str(epoch_acc))\n",
        "            \n",
        "            with open(log_file_name, 'a', newline='') as f:\n",
        "                writer = csv.writer(f)\n",
        "                writer.writerow([str(1)] + [str(epoch_loss)] + [str(epoch_acc)])\n",
        "        zero_mask = None\n",
        "                       \n",
        "    return model"
      ],
      "execution_count": 0,
      "outputs": []
    },
    {
      "cell_type": "markdown",
      "metadata": {
        "id": "tysC359r3aux",
        "colab_type": "text"
      },
      "source": [
        "# Just one loop"
      ]
    },
    {
      "cell_type": "code",
      "metadata": {
        "scrolled": true,
        "id": "AhHGxyEo3aux",
        "colab_type": "code",
        "colab": {}
      },
      "source": [
        "def simple_custom_loop(zero_part=0.5):\n",
        "    model.reset_states() \n",
        "    model_name = str(\"%.2f\" % zero_part) + \"z_test.csv\"\n",
        "    model = custom_loop(model, zero_part, model_name)"
      ],
      "execution_count": 0,
      "outputs": []
    },
    {
      "cell_type": "code",
      "metadata": {
        "id": "2TtYctWnZGfO",
        "colab_type": "code",
        "colab": {
          "base_uri": "https://localhost:8080/",
          "height": 34
        },
        "outputId": "06f9481f-39b4-4dbb-bb24-72ca21f13aac"
      },
      "source": [
        "simple_custom_loop(0.60)"
      ],
      "execution_count": 22,
      "outputs": [
        {
          "output_type": "stream",
          "text": [
            "0.90z_test.csv\n"
          ],
          "name": "stdout"
        }
      ]
    },
    {
      "cell_type": "markdown",
      "metadata": {
        "id": "heiK0WGY3au1",
        "colab_type": "text"
      },
      "source": [
        "# Long cell with different zero part"
      ]
    },
    {
      "cell_type": "code",
      "metadata": {
        "scrolled": true,
        "id": "G053DOZf3au2",
        "colab_type": "code",
        "colab": {}
      },
      "source": [
        "zero_part_start = 0.2\n",
        "zero_part_end = 1\n",
        "zero_step_big = 0.05\n",
        "zero_step_small = 0.02\n",
        "\n",
        "zero_part = zero_part_start\n",
        "\n",
        "while(zero_part < zero_part_end):\n",
        "    print('Zero part is ' + \"{:2.2f}\".format(zero_part))\n",
        "    simple_custom_loop(zero_part)\n",
        "    # model = keras.models.load_model('saved_models/empty_model')\n",
        "    # model_name = model_name_prefix + \"{:2.2f}\".format(zero_part) + '_zeroed'\n",
        "    # loss_result, acc_result = custom_loop(model, zero_part)\n",
        "    # print('After runs, ' + str(loss_result) + ' loss and ' + str(acc_result) + ' acc')\n",
        "    # with open(model_name_prefix + '_res.csv', 'a', newline='') as f:\n",
        "    #     writer = csv.writer(f)\n",
        "    #     writer.writerow([\"{:2.2f}\".format(zero_part)] + [str(loss_result)] + [str(acc_result)])\n",
        "    if zero_part < 0.9 - 0.5 * zero_step_big:\n",
        "        zero_part += zero_step_big\n",
        "    else:\n",
        "        zero_part += zero_step_small\n",
        "        \n",
        "#limit_mem()\n",
        "\n",
        "# Load best model\n",
        "#model = keras.models.load_model('saved_models/keras_cifar10_trained_03.h5')\n",
        "#scores = model.evaluate(x_test, y_test, verbose=1)\n",
        "#print('Test loss:', scores[0])\n",
        "#print('Test accuracy:', scores[1])"
      ],
      "execution_count": 0,
      "outputs": []
    },
    {
      "cell_type": "markdown",
      "metadata": {
        "id": "ySq7-xqx3au5",
        "colab_type": "text"
      },
      "source": [
        "# Check zeroing"
      ]
    },
    {
      "cell_type": "code",
      "metadata": {
        "scrolled": true,
        "id": "xsRmDOVe3au5",
        "colab_type": "code",
        "colab": {}
      },
      "source": [
        "show_weights_distribution(model, layers_to_zero) "
      ],
      "execution_count": 0,
      "outputs": []
    },
    {
      "cell_type": "code",
      "metadata": {
        "id": "0Pnf7wFk3au8",
        "colab_type": "code",
        "colab": {
          "base_uri": "https://localhost:8080/",
          "height": 265
        },
        "outputId": "3bdc489f-e393-4e56-973e-280373f30e15"
      },
      "source": [
        "layers_to_zero = generate_layer_mask([0, 2, 6, 8], len(model.layers)) # only conv layers\n",
        "zero_part = 0.6\n",
        "weights_type = WeightsTypeEnum.WEIGHTS\n",
        "show_weights_distribution(model, layers_to_zero) \n",
        "\n",
        "\n",
        "sparse_model = keras.models.clone_model(model)\n",
        "\n",
        "zero_mask = get_zero_mask(zero_part, sparse_model, layers_to_zero, ZeroTypeEnum.SPARSE_WEIGHTS, weights_type)\n",
        "sparse_model = set_null_weights_by_mask(sparse_model, zero_mask, layers_to_zero, weights_type)\n",
        "# show_weights_distribution(sparse_model, layers_to_zero)\n",
        "\n",
        "\n",
        "channel_model = keras.models.clone_model(model)\n",
        "\n",
        "channel_mask = get_zero_mask(zero_part, sparse_model, layers_to_zero, ZeroTypeEnum.GLOBAL_CHANNELS, weights_type)\n",
        "third_model = set_null_weights_by_mask(channel_model, channel_mask, layers_to_zero, weights_type)\n",
        "show_weights_distribution(third_model, layers_to_zero)\n",
        "\n",
        "\n",
        "channel_model_2 = keras.models.clone_model(model)\n",
        "\n",
        "channel_mask_2 = get_zero_mask(zero_part, sparse_model, layers_to_zero, ZeroTypeEnum.FILTER_CHANNELS, weights_type)\n",
        "forth_model = set_null_weights_by_mask(channel_model, channel_mask_2, layers_to_zero, weights_type)\n",
        "show_weights_distribution(forth_model, layers_to_zero)"
      ],
      "execution_count": 14,
      "outputs": [
        {
          "output_type": "display_data",
          "data": {
            "image/png": "[encoded data removed]",
            "text/plain": [
              "<Figure size 432x288 with 1 Axes>"
            ]
          },
          "metadata": {
            "tags": []
          }
        }
      ]
    },
    {
      "cell_type": "code",
      "metadata": {
        "scrolled": false,
        "id": "BLCgj3PS3au-",
        "colab_type": "code",
        "colab": {},
        "outputId": "5390c6fb-2c5b-4918-b1ea-4ed02614a092"
      },
      "source": [
        "exp_model = keras.models.clone_model(model)\n",
        "layers_to_zero = generate_layer_mask([0, 2, 6, 8], len(exp_model.layers)) # only conv layers\n",
        "zero_part = 0.5\n",
        "weights_type = WeightsTypeEnum.WEIGHTS\n",
        "\n",
        "mask = get_filter_channel_mask(zero_part, exp_model, layers_to_zero, weights_type)"
      ],
      "execution_count": 0,
      "outputs": [
        {
          "output_type": "stream",
          "text": [
            "channel_avg [0.07226141 0.07502567 0.07202228 0.07110243 0.07206412 0.07290908\n",
            " 0.06461524 0.06158582 0.06315155 0.07086998 0.06468184 0.05197499\n",
            " 0.05708712 0.08001763 0.04752925 0.07470421 0.07019111 0.07819913\n",
            " 0.05420869 0.07055626 0.07876862 0.06955203 0.06479703 0.05104145\n",
            " 0.06767978 0.06042973 0.06085224 0.0713883  0.07009757 0.06563505\n",
            " 0.05728588 0.06904721]\n",
            "threshold_value 0.069552034\n",
            "mask [[[[0. 0. 0. 0. 0. 0. 1. 1. 1. 0. 1. 1. 1. 0. 1. 0. 0. 0. 1. 0. 0. 1.\n",
            "    1. 1. 1. 1. 1. 0. 0. 1. 1. 1.]\n",
            "   [0. 0. 0. 0. 0. 0. 1. 1. 1. 0. 1. 1. 1. 0. 1. 0. 0. 0. 1. 0. 0. 1.\n",
            "    1. 1. 1. 1. 1. 0. 0. 1. 1. 1.]\n",
            "   [0. 0. 0. 0. 0. 0. 1. 1. 1. 0. 1. 1. 1. 0. 1. 0. 0. 0. 1. 0. 0. 1.\n",
            "    1. 1. 1. 1. 1. 0. 0. 1. 1. 1.]]\n",
            "\n",
            "  [[0. 0. 0. 0. 0. 0. 1. 1. 1. 0. 1. 1. 1. 0. 1. 0. 0. 0. 1. 0. 0. 1.\n",
            "    1. 1. 1. 1. 1. 0. 0. 1. 1. 1.]\n",
            "   [0. 0. 0. 0. 0. 0. 1. 1. 1. 0. 1. 1. 1. 0. 1. 0. 0. 0. 1. 0. 0. 1.\n",
            "    1. 1. 1. 1. 1. 0. 0. 1. 1. 1.]\n",
            "   [0. 0. 0. 0. 0. 0. 1. 1. 1. 0. 1. 1. 1. 0. 1. 0. 0. 0. 1. 0. 0. 1.\n",
            "    1. 1. 1. 1. 1. 0. 0. 1. 1. 1.]]\n",
            "\n",
            "  [[0. 0. 0. 0. 0. 0. 1. 1. 1. 0. 1. 1. 1. 0. 1. 0. 0. 0. 1. 0. 0. 1.\n",
            "    1. 1. 1. 1. 1. 0. 0. 1. 1. 1.]\n",
            "   [0. 0. 0. 0. 0. 0. 1. 1. 1. 0. 1. 1. 1. 0. 1. 0. 0. 0. 1. 0. 0. 1.\n",
            "    1. 1. 1. 1. 1. 0. 0. 1. 1. 1.]\n",
            "   [0. 0. 0. 0. 0. 0. 1. 1. 1. 0. 1. 1. 1. 0. 1. 0. 0. 0. 1. 0. 0. 1.\n",
            "    1. 1. 1. 1. 1. 0. 0. 1. 1. 1.]]]\n",
            "\n",
            "\n",
            " [[[0. 0. 0. 0. 0. 0. 1. 1. 1. 0. 1. 1. 1. 0. 1. 0. 0. 0. 1. 0. 0. 1.\n",
            "    1. 1. 1. 1. 1. 0. 0. 1. 1. 1.]\n",
            "   [0. 0. 0. 0. 0. 0. 1. 1. 1. 0. 1. 1. 1. 0. 1. 0. 0. 0. 1. 0. 0. 1.\n",
            "    1. 1. 1. 1. 1. 0. 0. 1. 1. 1.]\n",
            "   [0. 0. 0. 0. 0. 0. 1. 1. 1. 0. 1. 1. 1. 0. 1. 0. 0. 0. 1. 0. 0. 1.\n",
            "    1. 1. 1. 1. 1. 0. 0. 1. 1. 1.]]\n",
            "\n",
            "  [[0. 0. 0. 0. 0. 0. 1. 1. 1. 0. 1. 1. 1. 0. 1. 0. 0. 0. 1. 0. 0. 1.\n",
            "    1. 1. 1. 1. 1. 0. 0. 1. 1. 1.]\n",
            "   [0. 0. 0. 0. 0. 0. 1. 1. 1. 0. 1. 1. 1. 0. 1. 0. 0. 0. 1. 0. 0. 1.\n",
            "    1. 1. 1. 1. 1. 0. 0. 1. 1. 1.]\n",
            "   [0. 0. 0. 0. 0. 0. 1. 1. 1. 0. 1. 1. 1. 0. 1. 0. 0. 0. 1. 0. 0. 1.\n",
            "    1. 1. 1. 1. 1. 0. 0. 1. 1. 1.]]\n",
            "\n",
            "  [[0. 0. 0. 0. 0. 0. 1. 1. 1. 0. 1. 1. 1. 0. 1. 0. 0. 0. 1. 0. 0. 1.\n",
            "    1. 1. 1. 1. 1. 0. 0. 1. 1. 1.]\n",
            "   [0. 0. 0. 0. 0. 0. 1. 1. 1. 0. 1. 1. 1. 0. 1. 0. 0. 0. 1. 0. 0. 1.\n",
            "    1. 1. 1. 1. 1. 0. 0. 1. 1. 1.]\n",
            "   [0. 0. 0. 0. 0. 0. 1. 1. 1. 0. 1. 1. 1. 0. 1. 0. 0. 0. 1. 0. 0. 1.\n",
            "    1. 1. 1. 1. 1. 0. 0. 1. 1. 1.]]]\n",
            "\n",
            "\n",
            " [[[0. 0. 0. 0. 0. 0. 1. 1. 1. 0. 1. 1. 1. 0. 1. 0. 0. 0. 1. 0. 0. 1.\n",
            "    1. 1. 1. 1. 1. 0. 0. 1. 1. 1.]\n",
            "   [0. 0. 0. 0. 0. 0. 1. 1. 1. 0. 1. 1. 1. 0. 1. 0. 0. 0. 1. 0. 0. 1.\n",
            "    1. 1. 1. 1. 1. 0. 0. 1. 1. 1.]\n",
            "   [0. 0. 0. 0. 0. 0. 1. 1. 1. 0. 1. 1. 1. 0. 1. 0. 0. 0. 1. 0. 0. 1.\n",
            "    1. 1. 1. 1. 1. 0. 0. 1. 1. 1.]]\n",
            "\n",
            "  [[0. 0. 0. 0. 0. 0. 1. 1. 1. 0. 1. 1. 1. 0. 1. 0. 0. 0. 1. 0. 0. 1.\n",
            "    1. 1. 1. 1. 1. 0. 0. 1. 1. 1.]\n",
            "   [0. 0. 0. 0. 0. 0. 1. 1. 1. 0. 1. 1. 1. 0. 1. 0. 0. 0. 1. 0. 0. 1.\n",
            "    1. 1. 1. 1. 1. 0. 0. 1. 1. 1.]\n",
            "   [0. 0. 0. 0. 0. 0. 1. 1. 1. 0. 1. 1. 1. 0. 1. 0. 0. 0. 1. 0. 0. 1.\n",
            "    1. 1. 1. 1. 1. 0. 0. 1. 1. 1.]]\n",
            "\n",
            "  [[0. 0. 0. 0. 0. 0. 1. 1. 1. 0. 1. 1. 1. 0. 1. 0. 0. 0. 1. 0. 0. 1.\n",
            "    1. 1. 1. 1. 1. 0. 0. 1. 1. 1.]\n",
            "   [0. 0. 0. 0. 0. 0. 1. 1. 1. 0. 1. 1. 1. 0. 1. 0. 0. 0. 1. 0. 0. 1.\n",
            "    1. 1. 1. 1. 1. 0. 0. 1. 1. 1.]\n",
            "   [0. 0. 0. 0. 0. 0. 1. 1. 1. 0. 1. 1. 1. 0. 1. 0. 0. 0. 1. 0. 0. 1.\n",
            "    1. 1. 1. 1. 1. 0. 0. 1. 1. 1.]]]]\n"
          ],
          "name": "stdout"
        }
      ]
    },
    {
      "cell_type": "code",
      "metadata": {
        "id": "Mu9NE7cv3avB",
        "colab_type": "code",
        "colab": {},
        "outputId": "051b57c7-7a42-41d6-a86d-e9fb1592e16c"
      },
      "source": [
        "print(len(mask))"
      ],
      "execution_count": 0,
      "outputs": [
        {
          "output_type": "stream",
          "text": [
            "4\n"
          ],
          "name": "stdout"
        }
      ]
    },
    {
      "cell_type": "markdown",
      "metadata": {
        "id": "DSi0swAp3avF",
        "colab_type": "text"
      },
      "source": [
        "# Another useless cells"
      ]
    },
    {
      "cell_type": "code",
      "metadata": {
        "id": "lja1hdSr3avF",
        "colab_type": "code",
        "colab": {}
      },
      "source": [
        "#!jupyter notebook stop 11440\n",
        "os._exit(0)"
      ],
      "execution_count": 0,
      "outputs": []
    },
    {
      "cell_type": "code",
      "metadata": {
        "id": "iX8oGzJR3avI",
        "colab_type": "code",
        "colab": {}
      },
      "source": [
        "#Load model and show it's score\n",
        "model = keras.models.load_model('saved_models/keras_cifar10_trained_02.h5')\n",
        "\n",
        "scores = model.evaluate(x_test, y_test, verbose=1)\n",
        "print('Test loss:', scores[0])\n",
        "print('Test accuracy:', scores[1])"
      ],
      "execution_count": 0,
      "outputs": []
    },
    {
      "cell_type": "code",
      "metadata": {
        "id": "lXFILHEl3avK",
        "colab_type": "code",
        "colab": {}
      },
      "source": [
        "scores = model.evaluate(x_test, y_test, verbose=1)\n",
        "print('Test loss:', scores[0])\n",
        "print('Test accuracy:', scores[1])"
      ],
      "execution_count": 0,
      "outputs": []
    },
    {
      "cell_type": "code",
      "metadata": {
        "id": "kkhMMi413avM",
        "colab_type": "code",
        "colab": {}
      },
      "source": [
        "with open('results.csv', newline='') as csvfile:\n",
        "    spamreader = csv.reader(csvfile, delimiter=' ', quotechar='|')\n",
        "    for row in spamreader:\n",
        "        print(', '.join(row))"
      ],
      "execution_count": 0,
      "outputs": []
    },
    {
      "cell_type": "code",
      "metadata": {
        "id": "8dswiHKC3avP",
        "colab_type": "code",
        "colab": {}
      },
      "source": [
        "model = keras.models.load_model('saved_models/keras_cf10_0.9500000000000003zrpt')\n",
        "\n",
        "scores = model.evaluate(x_test, y_test, verbose=1)\n",
        "print('Test loss:', scores[0])\n",
        "print('Test accuracy:', scores[1])\n",
        "\n",
        "show_weights_distribution(1) # NEED UPDATE"
      ],
      "execution_count": 0,
      "outputs": []
    },
    {
      "cell_type": "code",
      "metadata": {
        "id": "DiJM1i5Y3avR",
        "colab_type": "code",
        "colab": {}
      },
      "source": [
        "model.summary()"
      ],
      "execution_count": 0,
      "outputs": []
    },
    {
      "cell_type": "code",
      "metadata": {
        "id": "QBPFX_TF3avU",
        "colab_type": "code",
        "colab": {}
      },
      "source": [
        "from keras.utils import plot_model\n",
        "plot_model(model, to_file='model_2.png', show_shapes=True, show_layer_names=True)"
      ],
      "execution_count": 0,
      "outputs": []
    },
    {
      "cell_type": "code",
      "metadata": {
        "id": "P4pxjBgD3avY",
        "colab_type": "code",
        "colab": {}
      },
      "source": [
        "!pip uninstall GraphViz"
      ],
      "execution_count": 0,
      "outputs": []
    },
    {
      "cell_type": "code",
      "metadata": {
        "id": "C4JAVS6D3avb",
        "colab_type": "code",
        "colab": {}
      },
      "source": [
        ""
      ],
      "execution_count": 0,
      "outputs": []
    }
  ]
}
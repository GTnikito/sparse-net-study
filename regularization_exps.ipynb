{
 "cells": [
  {
   "cell_type": "markdown",
   "metadata": {},
   "source": [
    "# Imports"
   ]
  },
  {
   "cell_type": "code",
   "execution_count": 1,
   "metadata": {},
   "outputs": [
    {
     "name": "stderr",
     "output_type": "stream",
     "text": [
      "Using TensorFlow backend.\n"
     ]
    }
   ],
   "source": [
    "'''Train a simple deep CNN on the CIFAR10 small images dataset.\n",
    "\n",
    "It gets to 75% validation accuracy in 25 epochs, and 79% after 50 epochs.\n",
    "(it's still underfitting at that point, though).\n",
    "'''\n",
    "\n",
    "from __future__ import print_function\n",
    "\n",
    "import os\n",
    "os.environ['CUDA_VISIBLE_DEVICES'] = '2'\n",
    "\n",
    "import csv\n",
    "import keras\n",
    "import numpy as np\n",
    "from keras import regularizers\n",
    "from keras.datasets import cifar10\n",
    "from keras.preprocessing.image import ImageDataGenerator\n",
    "from keras.models import Sequential\n",
    "from keras.layers import Dense, Dropout, Activation, Flatten\n",
    "from keras.layers import Conv2D, MaxPooling2D\n",
    "from keras.callbacks import EarlyStopping\n",
    "from itertools import chain\n",
    "import matplotlib.pyplot as plt"
   ]
  },
  {
   "cell_type": "code",
   "execution_count": 2,
   "metadata": {},
   "outputs": [
    {
     "data": {
      "text/plain": [
       "['/device:GPU:0']"
      ]
     },
     "execution_count": 2,
     "metadata": {},
     "output_type": "execute_result"
    }
   ],
   "source": [
    "from tensorflow.python.client import device_lib\n",
    "\n",
    "def get_available_gpus():\n",
    "    local_device_protos = device_lib.list_local_devices()\n",
    "    return [x.name for x in local_device_protos if x.device_type == 'GPU']\n",
    "\n",
    "def limit_mem():\n",
    "    keras.backend.get_session().close()\n",
    "    cfg = keras.backend.tf.ConfigProto()\n",
    "    cfg.gpu_options.allow_growth = True\n",
    "    keras.backend.set_session(keras.backend.tf.Session(config=cfg))\n",
    "\n",
    "get_available_gpus()"
   ]
  },
  {
   "cell_type": "code",
   "execution_count": 3,
   "metadata": {},
   "outputs": [],
   "source": [
    "from enum import Enum\n",
    "class WeightsTypeEnum(Enum):\n",
    "        WEIGHTS = 1\n",
    "        BIAS = 2\n",
    "        WEIGHTS_BIAS = 3\n",
    "\n",
    "def generate_layer_mask(active_layers, layers_num):\n",
    "    layer_mask = [0] * layers_num\n",
    "    for layer in active_layers:\n",
    "        layer_mask[layer] = 1\n",
    "    return layer_mask\n",
    "\n",
    "def show_weights_distribution(cnn_model, layer_mask, weights_type=WeightsTypeEnum.WEIGHTS, xrange=0.4):\n",
    "    all_weights = []\n",
    "    layer_mask_index = 0\n",
    "    \n",
    "    for x in cnn_model.layers:\n",
    "        if(x.get_weights() and layer_mask[layer_mask_index] == 1) :\n",
    "            layer_weights, layer_bias = x.get_weights()\n",
    "            if weights_type == WeightsTypeEnum.WEIGHTS:\n",
    "                all_weights.append(np.reshape(layer_weights, -1))\n",
    "            elif weights_type == WeightsTypeEnum.BIAS:\n",
    "                all_weights.append(np.reshape(layer_bias, -1))\n",
    "            elif weights_type == WeightsTypeEnum.WEIGHTS_BIAS:\n",
    "                all_weights.append(np.reshape(layer_weights, -1))\n",
    "                all_weights.append(np.reshape(layer_bias, -1))\n",
    "            else:\n",
    "                print('Some trouble in show_weights_distribution!')\n",
    "        layer_mask_index += 1\n",
    "    \n",
    "    all_weights = np.concatenate(all_weights)\n",
    "    plt.hist(all_weights, bins=80, range=(-xrange, xrange))\n",
    "\n",
    "def get_threshold(zero_part, cnn_model, layer_mask, weights_type=WeightsTypeEnum.WEIGHTS):\n",
    "    all_weights = []\n",
    "    layer_mask_index = 0\n",
    "    \n",
    "    for x in cnn_model.layers:\n",
    "        if(x.get_weights() and layer_mask[layer_mask_index] == 1) :\n",
    "            layer_weights, layer_bias = x.get_weights()\n",
    "            if weights_type == WeightsTypeEnum.WEIGHTS:\n",
    "                all_weights.append(np.reshape(layer_weights, -1))\n",
    "            elif weights_type == WeightsTypeEnum.BIAS:\n",
    "                all_weights.append(np.reshape(layer_bias, -1))\n",
    "            elif weights_type == WeightsTypeEnum.WEIGHTS_BIAS:\n",
    "                all_weights.append(np.reshape(layer_weights, -1))\n",
    "                all_weights.append(np.reshape(layer_bias, -1))\n",
    "            else:\n",
    "                print('Some trouble in get_threshold!')\n",
    "        layer_mask_index += 1\n",
    "            \n",
    "    all_weights = np.abs(np.concatenate(all_weights))\n",
    "    all_weights = np.sort(all_weights)\n",
    "    threshold_value = all_weights[int(zero_part * len(all_weights)) + 1]\n",
    "    return threshold_value\n",
    "    \n",
    "def get_masks(cnn_model, threshold_value, layer_mask, weights_type=WeightsTypeEnum.WEIGHTS):\n",
    "    zero_masks = []\n",
    "    layer_mask_index = 0\n",
    "    \n",
    "    for x in cnn_model.layers:\n",
    "        if(x.get_weights() and layer_mask[layer_mask_index] == 1) :\n",
    "            layer_weights, layer_bias = x.get_weights()\n",
    "            if weights_type == WeightsTypeEnum.WEIGHTS:\n",
    "                zero_masks.append(np.abs(layer_weights) <= threshold_value)\n",
    "            elif weights_type == WeightsTypeEnum.BIAS:\n",
    "                zero_masks.append(np.abs(layer_bias) <= threshold_value)\n",
    "            elif weights_type == WeightsTypeEnum.WEIGHTS_BIAS:\n",
    "                zero_masks.append(np.abs(layer_weights) <= threshold_value)\n",
    "                zero_masks.append(np.abs(layer_bias) <= threshold_value)\n",
    "            else:\n",
    "                print('Some trouble in get_masks!')\n",
    "        layer_mask_index += 1\n",
    "            \n",
    "    return zero_masks\n",
    "\n",
    "def set_null_weights_by_mask(cnn_model, zero_mask, layer_mask, weights_type=WeightsTypeEnum.WEIGHTS):\n",
    "    mask_iter = 0\n",
    "    layer_mask_index = 0\n",
    "    \n",
    "    for x in cnn_model.layers:\n",
    "        if(x.get_weights() and layer_mask[layer_mask_index] == 1) :\n",
    "            layer_weights, layer_bias = x.get_weights()\n",
    "            if weights_type == WeightsTypeEnum.WEIGHTS:\n",
    "                layer_weights[zero_mask[mask_iter]] = 0\n",
    "            elif weights_type == WeightsTypeEnum.BIAS:\n",
    "                layer_bias[zero_mask[mask_iter]] = 0\n",
    "            elif weights_type == WeightsTypeEnum.WEIGHTS_BIAS:\n",
    "                layer_weights[zero_mask[mask_iter]] = 0\n",
    "                mask_iter += 1\n",
    "                layer_bias[zero_mask[mask_iter]] = 0\n",
    "            else:\n",
    "                print('Some trouble in set_null_weights_by_mask!')\n",
    "            mask_iter += 1\n",
    "            x.set_weights([layer_weights, layer_bias])\n",
    "        layer_mask_index += 1\n",
    "        \n",
    "    return cnn_model"
   ]
  },
  {
   "cell_type": "markdown",
   "metadata": {},
   "source": [
    "# Model achitecture"
   ]
  },
  {
   "cell_type": "code",
   "execution_count": 5,
   "metadata": {},
   "outputs": [
    {
     "name": "stdout",
     "output_type": "stream",
     "text": [
      "x_train shape: (50000, 32, 32, 3)\n",
      "50000 train samples\n",
      "10000 test samples\n"
     ]
    }
   ],
   "source": [
    "batch_size = 32\n",
    "num_classes = 10\n",
    "epochs = 100\n",
    "data_augmentation = True\n",
    "num_predictions = 20\n",
    "save_dir = os.path.join(os.getcwd(), 'saved_models')\n",
    "l1_coef = 0.0001 # * 10, * 100, * ??? was 0.00001\n",
    "min_los_delta = 0.001\n",
    "\n",
    "# 01 version - stock model, dropouts, no L1/L2\n",
    "# 02 version - stock model, no dropouts, no L1/L2\n",
    "# 03 version - stock model, no dropouts, L1 0.01 kernel_regularizer\n",
    "\n",
    "# The data, split between train and test sets:\n",
    "(x_train, y_train), (x_test, y_test) = cifar10.load_data()\n",
    "print('x_train shape:', x_train.shape)\n",
    "print(x_train.shape[0], 'train samples')\n",
    "print(x_test.shape[0], 'test samples')\n",
    "\n",
    "# Convert class vectors to binary class matrices.\n",
    "y_train = keras.utils.to_categorical(y_train, num_classes)\n",
    "y_test = keras.utils.to_categorical(y_test, num_classes)\n",
    "\n",
    "model = Sequential()\n",
    "model.add(Conv2D(32, (3, 3), padding='same', \n",
    "                 input_shape=x_train.shape[1:]))#, kernel_regularizer=regularizers.l1(l1_coef))) # Layer 0\n",
    "model.add(Activation('relu')) # Layer 1\n",
    "model.add(Conv2D(32, (3, 3)))#, kernel_regularizer=regularizers.l1(l1_coef))) # Layer 2\n",
    "model.add(Activation('relu')) # Layer 3\n",
    "model.add(MaxPooling2D(pool_size=(2, 2))) # Layer 4\n",
    "model.add(Dropout(0.25)) # Layer 5\n",
    "\n",
    "model.add(Conv2D(64, (3, 3), padding='same'))#, kernel_regularizer=regularizers.l1(l1_coef))) # Layer 6\n",
    "model.add(Activation('relu')) # Layer 7\n",
    "model.add(Conv2D(64, (3, 3)))#, kernel_regularizer=regularizers.l1(l1_coef))) # Layer 8\n",
    "model.add(Activation('relu')) # Layer 9\n",
    "model.add(MaxPooling2D(pool_size=(2, 2))) # Layer 10\n",
    "model.add(Dropout(0.25)) # Layer 11\n",
    "\n",
    "model.add(Flatten()) # Layer 12\n",
    "model.add(Dense(512))#, kernel_regularizer=regularizers.l1(l1_coef)))  # Layer 13\n",
    "model.add(Activation('relu'))  # Layer 14\n",
    "model.add(Dropout(0.5))  # Layer 15 \n",
    "model.add(Dense(num_classes))#, kernel_regularizer=regularizers.l1(l1_coef)))  # Layer 16\n",
    "model.add(Activation('softmax'))  # Layer 17\n",
    "\n",
    "# initiate RMSprop optimizer\n",
    "opt = keras.optimizers.rmsprop(lr=0.0001, decay=1e-6)\n",
    "# maybe adam, /5 or /10 default parametrs\n",
    "\n",
    "# Let's train the model using RMSprop\n",
    "model.compile(loss='categorical_crossentropy',\n",
    "              optimizer=opt,\n",
    "              metrics=['accuracy'])\n",
    "\n",
    "x_train = x_train.astype('float32')\n",
    "x_test = x_test.astype('float32')\n",
    "x_train /= 255\n",
    "x_test /= 255\n",
    "\n",
    "if not os.path.isdir(save_dir):\n",
    "    os.makedirs(save_dir)\n",
    "model_path = os.path.join(save_dir, \"empty_model\")\n",
    "model.save(model_path)"
   ]
  },
  {
   "cell_type": "markdown",
   "metadata": {},
   "source": [
    "# Callbacks"
   ]
  },
  {
   "cell_type": "code",
   "execution_count": 6,
   "metadata": {},
   "outputs": [],
   "source": [
    "cb_lists = [\n",
    "    EarlyStopping(monitor='val_loss', \n",
    "                  min_delta=0.1 * min_los_delta, \n",
    "                  patience=10, \n",
    "                  verbose=0, \n",
    "                  mode='auto', \n",
    "                  baseline=None, \n",
    "                  restore_best_weights=False)\n",
    "]"
   ]
  },
  {
   "cell_type": "markdown",
   "metadata": {},
   "source": [
    "# Example Loop"
   ]
  },
  {
   "cell_type": "code",
   "execution_count": 13,
   "metadata": {},
   "outputs": [],
   "source": [
    "def example_loop():\n",
    "    if not data_augmentation:\n",
    "        print('Not using data augmentation.')\n",
    "        model.fit(x_train, y_train,\n",
    "                  batch_size=batch_size,\n",
    "                  epochs=epochs,\n",
    "                  validation_data=(x_test, y_test),\n",
    "                  shuffle=True)\n",
    "    else:\n",
    "        print('Using real-time data augmentation.')\n",
    "        # This will do preprocessing and realtime data augmentation:\n",
    "        datagen = ImageDataGenerator(\n",
    "            featurewise_center=False,  # set input mean to 0 over the dataset\n",
    "            samplewise_center=False,  # set each sample mean to 0\n",
    "            featurewise_std_normalization=False,  # divide inputs by std of the dataset\n",
    "            samplewise_std_normalization=False,  # divide each input by its std\n",
    "            zca_whitening=False,  # apply ZCA whitening\n",
    "            zca_epsilon=1e-06,  # epsilon for ZCA whitening\n",
    "            rotation_range=0,  # randomly rotate images in the range (degrees, 0 to 180)\n",
    "            # randomly shift images horizontally (fraction of total width)\n",
    "            width_shift_range=0.1,\n",
    "            # randomly shift images vertically (fraction of total height)\n",
    "            height_shift_range=0.1,\n",
    "            shear_range=0.,  # set range for random shear\n",
    "            zoom_range=0.,  # set range for random zoom\n",
    "            channel_shift_range=0.,  # set range for random channel shifts\n",
    "            # set mode for filling points outside the input boundaries\n",
    "            fill_mode='nearest',\n",
    "            cval=0.,  # value used for fill_mode = \"constant\"\n",
    "            horizontal_flip=True,  # randomly flip images\n",
    "            vertical_flip=False,  # randomly flip images\n",
    "            # set rescaling factor (applied before any other transformation)\n",
    "            rescale=None,\n",
    "            # set function that will be applied on each input\n",
    "            preprocessing_function=None,\n",
    "            # image data format, either \"channels_first\" or \"channels_last\"\n",
    "            data_format=None,\n",
    "            # fraction of images reserved for validation (strictly between 0 and 1)\n",
    "            validation_split=0.0)\n",
    "    \n",
    "        # Compute quantities required for feature-wise normalization\n",
    "        # (std, mean, and principal components if ZCA whitening is applied).\n",
    "        datagen.fit(x_train)\n",
    "    \n",
    "        # Fit the model on the batches generated by datagen.flow().\n",
    "        model.fit_generator(datagen.flow(x_train, y_train,\n",
    "                                         batch_size=batch_size),\n",
    "                            epochs=epochs,\n",
    "                            validation_data=(x_test, y_test),\n",
    "                            workers=4,\n",
    "                            steps_per_epoch=len(x_train)/batch_size,\n",
    "                            callbacks=cb_lists)"
   ]
  },
  {
   "cell_type": "markdown",
   "metadata": {},
   "source": [
    "# Custom Loop"
   ]
  },
  {
   "cell_type": "code",
   "execution_count": 7,
   "metadata": {},
   "outputs": [],
   "source": [
    "def custom_loop(model, zero_part):\n",
    "    datagen = ImageDataGenerator(\n",
    "        featurewise_center=False,  # set input mean to 0 over the dataset\n",
    "        samplewise_center=False,  # set each sample mean to 0\n",
    "        featurewise_std_normalization=False,  # divide inputs by std of the dataset\n",
    "        samplewise_std_normalization=False,  # divide each input by its std\n",
    "        zca_whitening=False,  # apply ZCA whitening\n",
    "        zca_epsilon=1e-06,  # epsilon for ZCA whitening\n",
    "        rotation_range=0,  # randomly rotate images in the range (degrees, 0 to 180)\n",
    "        # randomly shift images horizontally (fraction of total width)\n",
    "        width_shift_range=0.1,\n",
    "        # randomly shift images vertically (fraction of total height)\n",
    "        height_shift_range=0.1,\n",
    "        shear_range=0.,  # set range for random shear\n",
    "        zoom_range=0.,  # set range for random zoom\n",
    "        channel_shift_range=0.,  # set range for random channel shifts\n",
    "        # set mode for filling points outside the input boundaries\n",
    "        fill_mode='nearest',\n",
    "        cval=0.,  # value used for fill_mode = \"constant\"\n",
    "        horizontal_flip=True,  # randomly flip images\n",
    "        vertical_flip=False,  # randomly flip images\n",
    "        # set rescaling factor (applied before any other transformation)\n",
    "        rescale=None,\n",
    "        # set function that will be applied on each input\n",
    "        preprocessing_function=None,\n",
    "        # image data format, either \"channels_first\" or \"channels_last\"\n",
    "        data_format=None,\n",
    "        # fraction of images reserved for validation (strictly between 0 and 1)\n",
    "        validation_split=0.0)\n",
    "\n",
    "    # Compute quantities required for feature-wise normalization\n",
    "    # (std, mean, and principal components if ZCA whitening is applied).\n",
    "    datagen.fit(x_train)\n",
    "    \n",
    "    enable_early_cut_off = False\n",
    "    enable_saving_best_model = True\n",
    "    prev_loss = 0\n",
    "    best_loss = 999999999999\n",
    "    best_acc = 0\n",
    "    \n",
    "    # Zeroing weights params\n",
    "    enable_zeroing_weights = True\n",
    "    zero_mode = False\n",
    "    zero_mask = []\n",
    "    non_zeroing_epochs = 10\n",
    "    zeroing_epochs = 5\n",
    "    left_cur_state_epochs = non_zeroing_epochs\n",
    "    layers_to_zero = generate_layer_mask([0, 2, 6, 8], len(model.layers)) # only conv layers\n",
    "    weights_type = WeightsTypeEnum.WEIGHTS\n",
    "    \n",
    "    for i in range(0, epochs):\n",
    "        gen = datagen.flow(x_train, y_train, batch_size=batch_size)\n",
    "        \n",
    "        if enable_zeroing_weights:\n",
    "            left_cur_state_epochs -= 1\n",
    "            #print('Decreased left_cur_state_epochs: ' + str(left_cur_state_epochs))\n",
    "            if (left_cur_state_epochs < 0):\n",
    "                zero_mode = not zero_mode\n",
    "                left_cur_state_epochs = zeroing_epochs if zero_mode else non_zeroing_epochs\n",
    "                if zero_mode:\n",
    "                    print('Enable zero mode!')\n",
    "                    zero_mask = get_masks(model, get_threshold(zero_part, model, layers_to_zero, weights_type), \n",
    "                                          layers_to_zero, weights_type)\n",
    "                else:\n",
    "                    print('Disable zero mode!')\n",
    "        \n",
    "        for j in range(0, int(len(x_train)/batch_size)):\n",
    "            x_tr, y_tr = next(gen)\n",
    "            model.train_on_batch(x_tr, y_tr)\n",
    "            if zero_mode:\n",
    "                #print('Zeroing!')\n",
    "                model = set_null_weights_by_mask(model, zero_mask, layers_to_zero, weights_type)\n",
    "        \n",
    "        print('Finish epoch: ' + str(i))\n",
    "        epoch_loss, epoch_acc = model.evaluate(x_test, y_test)\n",
    "        print('Validation loss: ' + str(epoch_loss) + ', acc ' + str(epoch_acc))\n",
    "        \n",
    "        if (enable_early_cut_off):\n",
    "            if (abs(epoch_loss - prev_loss) < min_los_delta):\n",
    "                print('Exit because loss stoped changing. epoch_loss ' \n",
    "                      + str(epoch_loss) \n",
    "                      + ' prev_loss' \n",
    "                      + str(prev_loss))\n",
    "                break\n",
    "            prev_loss = epoch_loss\n",
    "                \n",
    "        if(enable_saving_best_model):\n",
    "            if(epoch_loss < best_loss):\n",
    "                best_loss = epoch_loss\n",
    "                best_acc = epoch_acc\n",
    "                \n",
    "                if not os.path.isdir(save_dir):\n",
    "                    os.makedirs(save_dir)\n",
    "                model_path = os.path.join(save_dir, model_name)\n",
    "                model.save(model_path)\n",
    "                print('Saved best model at %s ' % model_path)\n",
    "    return best_loss, best_acc\n",
    "            "
   ]
  },
  {
   "cell_type": "markdown",
   "metadata": {},
   "source": [
    "# Just one loop"
   ]
  },
  {
   "cell_type": "code",
   "execution_count": null,
   "metadata": {},
   "outputs": [],
   "source": [
    "model_name = \"example_arch\"\n",
    "model.reset_states() \n",
    "\n",
    "zero_part = 0.5\n",
    "loss_result, acc_result = custom_loop(model, zero_part)\n",
    "print('After runs, ' + str(loss_result) + ' loss and ' + str(acc_result) + ' acc')"
   ]
  },
  {
   "cell_type": "markdown",
   "metadata": {},
   "source": [
    "# Active cell with different zero part"
   ]
  },
  {
   "cell_type": "code",
   "execution_count": null,
   "metadata": {
    "scrolled": true
   },
   "outputs": [
    {
     "name": "stdout",
     "output_type": "stream",
     "text": [
      "Finish epoch: 0\n",
      "10000/10000 [==============================] - 1s 56us/step\n",
      "Validation loss: 1.59881713848114, acc 0.4213\n",
      "Saved best model at /home/nikitam/sparse-net-study/saved_models/cf10_conv_w1_0_zeroed \n",
      "Finish epoch: 1\n",
      "10000/10000 [==============================] - 0s 49us/step\n",
      "Validation loss: 1.4285996509552001, acc 0.4769\n",
      "Saved best model at /home/nikitam/sparse-net-study/saved_models/cf10_conv_w1_0_zeroed \n",
      "Finish epoch: 2\n",
      "10000/10000 [==============================] - 0s 48us/step\n",
      "Validation loss: 1.3565707344055176, acc 0.5017\n",
      "Saved best model at /home/nikitam/sparse-net-study/saved_models/cf10_conv_w1_0_zeroed \n",
      "Finish epoch: 3\n",
      "10000/10000 [==============================] - 0s 48us/step\n",
      "Validation loss: 1.2772546630859376, acc 0.5409\n",
      "Saved best model at /home/nikitam/sparse-net-study/saved_models/cf10_conv_w1_0_zeroed \n",
      "Finish epoch: 4\n",
      "10000/10000 [==============================] - 1s 51us/step\n",
      "Validation loss: 1.1949388957977294, acc 0.5698\n",
      "Saved best model at /home/nikitam/sparse-net-study/saved_models/cf10_conv_w1_0_zeroed \n",
      "Finish epoch: 5\n",
      "10000/10000 [==============================] - 0s 48us/step\n",
      "Validation loss: 1.1372851232528687, acc 0.5972\n",
      "Saved best model at /home/nikitam/sparse-net-study/saved_models/cf10_conv_w1_0_zeroed \n",
      "Finish epoch: 6\n",
      "10000/10000 [==============================] - 0s 48us/step\n",
      "Validation loss: 1.1422898483276367, acc 0.5977\n",
      "Finish epoch: 7\n",
      "10000/10000 [==============================] - 0s 48us/step\n",
      "Validation loss: 1.209950325202942, acc 0.5803\n",
      "Finish epoch: 8\n",
      "10000/10000 [==============================] - 0s 49us/step\n",
      "Validation loss: 0.9983229753494263, acc 0.6486\n",
      "Saved best model at /home/nikitam/sparse-net-study/saved_models/cf10_conv_w1_0_zeroed \n",
      "Finish epoch: 9\n",
      "10000/10000 [==============================] - 0s 48us/step\n",
      "Validation loss: 0.9663401870727539, acc 0.6593\n",
      "Saved best model at /home/nikitam/sparse-net-study/saved_models/cf10_conv_w1_0_zeroed \n",
      "Enable zero mode!\n",
      "Finish epoch: 10\n",
      "10000/10000 [==============================] - 0s 47us/step\n",
      "Validation loss: 1.0018505919456482, acc 0.6504\n",
      "Finish epoch: 11\n",
      "10000/10000 [==============================] - 0s 48us/step\n",
      "Validation loss: 0.9676440519332886, acc 0.6611\n",
      "Finish epoch: 12\n",
      "10000/10000 [==============================] - 0s 47us/step\n",
      "Validation loss: 0.9355398222923279, acc 0.6711\n",
      "Saved best model at /home/nikitam/sparse-net-study/saved_models/cf10_conv_w1_0_zeroed \n",
      "Finish epoch: 13\n",
      "10000/10000 [==============================] - 0s 48us/step\n",
      "Validation loss: 0.8889130045890808, acc 0.6854\n",
      "Saved best model at /home/nikitam/sparse-net-study/saved_models/cf10_conv_w1_0_zeroed \n",
      "Finish epoch: 14\n",
      "10000/10000 [==============================] - 0s 49us/step\n",
      "Validation loss: 0.8903961463928223, acc 0.6901\n",
      "Finish epoch: 15\n",
      "10000/10000 [==============================] - 0s 47us/step\n",
      "Validation loss: 0.8201234776496887, acc 0.7139\n",
      "Saved best model at /home/nikitam/sparse-net-study/saved_models/cf10_conv_w1_0_zeroed \n",
      "Disable zero mode!\n",
      "Finish epoch: 16\n",
      "10000/10000 [==============================] - 0s 48us/step\n",
      "Validation loss: 0.8420241250991821, acc 0.7053\n",
      "Finish epoch: 17\n",
      "10000/10000 [==============================] - 0s 49us/step\n",
      "Validation loss: 0.8319137649536132, acc 0.71\n"
     ]
    }
   ],
   "source": [
    "model_name_prefix = 'cf10_conv_w1_'\n",
    "zero_part = 0\n",
    "zero_step_big = 10\n",
    "zero_step_small = 1\n",
    "\n",
    "while(zero_part < 1.0):\n",
    "    model = keras.models.load_model('saved_models/empty_model')\n",
    "    model_name = model_name_prefix + str(zero_part) + '_zeroed'\n",
    "    loss_result, acc_result = custom_loop(model, zero_part)\n",
    "    print('After runs, ' + str(loss_result) + ' loss and ' + str(acc_result) + ' acc')\n",
    "\n",
    "    with open(model_name_prefix + '_res.csv', 'a', newline='') as f:\n",
    "        writer = csv.writer(f)\n",
    "        writer.writerow([str(zero_part)] + [str(loss_result)] + [str(acc_result)])\n",
    "    if zero_part < 0.9:\n",
    "        zero_part += zero_step_big\n",
    "    else:\n",
    "        zero_part += zero_step_small\n",
    "        \n",
    "#limit_mem()\n",
    "\n",
    "# Load best model\n",
    "#model = keras.models.load_model('saved_models/keras_cifar10_trained_03.h5')\n",
    "#scores = model.evaluate(x_test, y_test, verbose=1)\n",
    "#print('Test loss:', scores[0])\n",
    "#print('Test accuracy:', scores[1])"
   ]
  },
  {
   "cell_type": "markdown",
   "metadata": {},
   "source": [
    "# Check zeroing"
   ]
  },
  {
   "cell_type": "code",
   "execution_count": 19,
   "metadata": {},
   "outputs": [
    {
     "data": {
      "image/png": "[encoded data removed]",
      "text/plain": [
       "<Figure size 432x288 with 1 Axes>"
      ]
     },
     "metadata": {
      "needs_background": "light"
     },
     "output_type": "display_data"
    }
   ],
   "source": [
    "show_weights_distribution(model, layers_to_zero) "
   ]
  },
  {
   "cell_type": "code",
   "execution_count": 20,
   "metadata": {},
   "outputs": [
    {
     "data": {
      "image/png": "[encoded data removed]",
      "text/plain": [
       "<Figure size 432x288 with 1 Axes>"
      ]
     },
     "metadata": {
      "needs_background": "light"
     },
     "output_type": "display_data"
    }
   ],
   "source": [
    "first_model = model\n",
    "layers_to_zero = generate_layer_mask([0, 2, 6, 8], len(first_model.layers)) # only conv layers\n",
    "zero_part = 0.8\n",
    "\n",
    "weights_type = WeightsTypeEnum.WEIGHTS\n",
    "zero_mask = get_masks(first_model, get_threshold(zero_part, first_model, layers_to_zero, weights_type), \n",
    "                                          layers_to_zero, weights_type)\n",
    "second_model = set_null_weights_by_mask(first_model, zero_mask, layers_to_zero, weights_type)\n",
    "\n",
    "#show_weights_distribution(first_model, layers_to_zero) \n",
    "show_weights_distribution(second_model, layers_to_zero) "
   ]
  },
  {
   "cell_type": "markdown",
   "metadata": {},
   "source": [
    "# Another useless cells"
   ]
  },
  {
   "cell_type": "code",
   "execution_count": null,
   "metadata": {},
   "outputs": [],
   "source": [
    "#!jupyter notebook stop 11440\n",
    "os._exit(0)"
   ]
  },
  {
   "cell_type": "code",
   "execution_count": null,
   "metadata": {},
   "outputs": [],
   "source": [
    "#Load model and show it's score\n",
    "model = keras.models.load_model('saved_models/keras_cifar10_trained_02.h5')\n",
    "\n",
    "scores = model.evaluate(x_test, y_test, verbose=1)\n",
    "print('Test loss:', scores[0])\n",
    "print('Test accuracy:', scores[1])"
   ]
  },
  {
   "cell_type": "code",
   "execution_count": null,
   "metadata": {},
   "outputs": [],
   "source": [
    "scores = model.evaluate(x_test, y_test, verbose=1)\n",
    "print('Test loss:', scores[0])\n",
    "print('Test accuracy:', scores[1])"
   ]
  },
  {
   "cell_type": "code",
   "execution_count": null,
   "metadata": {},
   "outputs": [],
   "source": [
    "with open('results.csv', newline='') as csvfile:\n",
    "    spamreader = csv.reader(csvfile, delimiter=' ', quotechar='|')\n",
    "    for row in spamreader:\n",
    "        print(', '.join(row))"
   ]
  },
  {
   "cell_type": "code",
   "execution_count": null,
   "metadata": {},
   "outputs": [],
   "source": [
    "model = keras.models.load_model('saved_models/keras_cf10_0.9500000000000003zrpt')\n",
    "\n",
    "scores = model.evaluate(x_test, y_test, verbose=1)\n",
    "print('Test loss:', scores[0])\n",
    "print('Test accuracy:', scores[1])\n",
    "\n",
    "show_weights_distribution(1) # NEED UPDATE"
   ]
  },
  {
   "cell_type": "code",
   "execution_count": null,
   "metadata": {},
   "outputs": [],
   "source": [
    "model.summary()"
   ]
  },
  {
   "cell_type": "code",
   "execution_count": null,
   "metadata": {},
   "outputs": [],
   "source": [
    "from keras.utils import plot_model\n",
    "plot_model(model, to_file='model.png', show_shapes=True, show_layer_names=True)"
   ]
  },
  {
   "cell_type": "code",
   "execution_count": null,
   "metadata": {},
   "outputs": [],
   "source": [
    "!pip uninstall GraphViz"
   ]
  },
  {
   "cell_type": "code",
   "execution_count": null,
   "metadata": {},
   "outputs": [],
   "source": []
  }
 ],
 "metadata": {
  "kernelspec": {
   "display_name": "Python 3",
   "language": "python",
   "name": "python3"
  },
  "language_info": {
   "codemirror_mode": {
    "name": "ipython",
    "version": 3
   },
   "file_extension": ".py",
   "mimetype": "text/x-python",
   "name": "python",
   "nbconvert_exporter": "python",
   "pygments_lexer": "ipython3",
   "version": "3.6.8"
  }
 },
 "nbformat": 4,
 "nbformat_minor": 2
}
